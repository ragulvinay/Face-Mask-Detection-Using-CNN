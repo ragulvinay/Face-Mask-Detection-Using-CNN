{
 "cells": [
  {
   "cell_type": "code",
   "execution_count": 1,
   "metadata": {},
   "outputs": [],
   "source": [
    "import numpy as np\n",
    "\n",
    "data=np.load('data.npy')\n",
    "target=np.load('target.npy')\n",
    "\n",
    "#loading the save numpy arrays in the previous code"
   ]
  },
  {
   "cell_type": "code",
   "execution_count": 2,
   "metadata": {},
   "outputs": [
    {
     "name": "stderr",
     "output_type": "stream",
     "text": [
      "Using Theano backend.\n"
     ]
    }
   ],
   "source": [
    "from keras.models import Sequential\n",
    "from keras.layers import Dense,Activation,Flatten,Dropout\n",
    "from keras.layers import Conv2D,MaxPooling2D\n",
    "from keras.callbacks import ModelCheckpoint\n",
    "\n",
    "model=Sequential()\n",
    "\n",
    "#The first CNN layer\n",
    "\n",
    "#Convolution layer of a kernel size 200\n",
    "model.add(Conv2D(200,(3,3),input_shape=data.shape[1:]))\n",
    "#Relu layer\n",
    "model.add(Activation('relu'))\n",
    "#MaxPooling layer\n",
    "model.add(MaxPooling2D(pool_size=(2,2)))\n",
    "\n",
    "#The second convolution layer\n",
    "\n",
    "#Convolution layer of a kernel size 100\n",
    "model.add(Conv2D(100,(3,3)))\n",
    "#Relu layer\n",
    "model.add(Activation('relu'))\n",
    "#MaxPooling layer\n",
    "model.add(MaxPooling2D(pool_size=(2,2)))\n",
    "\n",
    "#Flatten layer to stack the output convolutions from second convolution layer\n",
    "model.add(Flatten())\n",
    "\n",
    "#Performing Dropout to avoid overfitting\n",
    "model.add(Dropout(0.5))\n",
    "\n",
    "#Dense layer of 64 neurons\n",
    "model.add(Dense(50,activation='relu'))\n",
    "\n",
    "#The Final layer with two outputs for two categories\n",
    "model.add(Dense(2,activation='softmax'))\n",
    "\n",
    "#Compiling the model\n",
    "model.compile(loss='categorical_crossentropy',optimizer='adam',metrics=['accuracy'])\n",
    "\n"
   ]
  },
  {
   "cell_type": "code",
   "execution_count": 3,
   "metadata": {},
   "outputs": [
    {
     "name": "stdout",
     "output_type": "stream",
     "text": [
      "_________________________________________________________________\n",
      "Layer (type)                 Output Shape              Param #   \n",
      "=================================================================\n",
      "conv2d_1 (Conv2D)            (None, 98, 98, 200)       2000      \n",
      "_________________________________________________________________\n",
      "activation_1 (Activation)    (None, 98, 98, 200)       0         \n",
      "_________________________________________________________________\n",
      "max_pooling2d_1 (MaxPooling2 (None, 49, 49, 200)       0         \n",
      "_________________________________________________________________\n",
      "conv2d_2 (Conv2D)            (None, 47, 47, 100)       180100    \n",
      "_________________________________________________________________\n",
      "activation_2 (Activation)    (None, 47, 47, 100)       0         \n",
      "_________________________________________________________________\n",
      "max_pooling2d_2 (MaxPooling2 (None, 23, 23, 100)       0         \n",
      "_________________________________________________________________\n",
      "flatten_1 (Flatten)          (None, 52900)             0         \n",
      "_________________________________________________________________\n",
      "dropout_1 (Dropout)          (None, 52900)             0         \n",
      "_________________________________________________________________\n",
      "dense_1 (Dense)              (None, 50)                2645050   \n",
      "_________________________________________________________________\n",
      "dense_2 (Dense)              (None, 2)                 102       \n",
      "=================================================================\n",
      "Total params: 2,827,252\n",
      "Trainable params: 2,827,252\n",
      "Non-trainable params: 0\n",
      "_________________________________________________________________\n"
     ]
    }
   ],
   "source": [
    "model.summary()"
   ]
  },
  {
   "cell_type": "code",
   "execution_count": 4,
   "metadata": {},
   "outputs": [],
   "source": [
    "from sklearn.model_selection import train_test_split\n",
    "\n",
    "train_data,test_data,train_target,test_target=train_test_split(data,target,test_size=0.1)"
   ]
  },
  {
   "cell_type": "code",
   "execution_count": 5,
   "metadata": {},
   "outputs": [
    {
     "name": "stdout",
     "output_type": "stream",
     "text": [
      "Train on 993 samples, validate on 249 samples\n",
      "Epoch 1/20\n",
      "993/993 [==============================] - 141s 142ms/step - loss: 0.8753 - acc: 0.5650 - val_loss: 0.6345 - val_acc: 0.5703\n",
      "Epoch 2/20\n",
      "993/993 [==============================] - 139s 140ms/step - loss: 0.5685 - acc: 0.6979 - val_loss: 0.5726 - val_acc: 0.6466\n",
      "Epoch 3/20\n",
      "993/993 [==============================] - 142s 143ms/step - loss: 0.4929 - acc: 0.7613 - val_loss: 0.4641 - val_acc: 0.7831\n",
      "Epoch 4/20\n",
      "993/993 [==============================] - 145s 146ms/step - loss: 0.3462 - acc: 0.8620 - val_loss: 0.4114 - val_acc: 0.8474\n",
      "Epoch 5/20\n",
      "993/993 [==============================] - 145s 146ms/step - loss: 0.3632 - acc: 0.8499 - val_loss: 0.2695 - val_acc: 0.8996\n",
      "Epoch 6/20\n",
      "993/993 [==============================] - 144s 145ms/step - loss: 0.2420 - acc: 0.9094 - val_loss: 0.2462 - val_acc: 0.9036\n",
      "Epoch 7/20\n",
      "993/993 [==============================] - 147s 148ms/step - loss: 0.1951 - acc: 0.9265 - val_loss: 0.2968 - val_acc: 0.9036\n",
      "Epoch 8/20\n",
      "993/993 [==============================] - 147s 148ms/step - loss: 0.1638 - acc: 0.9366 - val_loss: 0.2928 - val_acc: 0.9116\n",
      "Epoch 9/20\n",
      "993/993 [==============================] - 148s 149ms/step - loss: 0.2750 - acc: 0.8902 - val_loss: 0.2990 - val_acc: 0.8795\n",
      "Epoch 10/20\n",
      "993/993 [==============================] - 149s 150ms/step - loss: 0.2392 - acc: 0.8943 - val_loss: 0.3304 - val_acc: 0.8675\n",
      "Epoch 11/20\n",
      "993/993 [==============================] - 149s 150ms/step - loss: 0.2160 - acc: 0.9154 - val_loss: 0.3615 - val_acc: 0.8554\n",
      "Epoch 12/20\n",
      "993/993 [==============================] - 147s 148ms/step - loss: 0.1391 - acc: 0.9466 - val_loss: 0.2692 - val_acc: 0.9036\n",
      "Epoch 13/20\n",
      "993/993 [==============================] - 150s 151ms/step - loss: 0.1157 - acc: 0.9577 - val_loss: 0.1962 - val_acc: 0.9317\n",
      "Epoch 14/20\n",
      "993/993 [==============================] - 149s 150ms/step - loss: 0.2279 - acc: 0.9063 - val_loss: 0.3080 - val_acc: 0.8916\n",
      "Epoch 15/20\n",
      "993/993 [==============================] - 150s 152ms/step - loss: 0.1410 - acc: 0.9416 - val_loss: 0.1847 - val_acc: 0.9277\n",
      "Epoch 16/20\n",
      "993/993 [==============================] - 150s 151ms/step - loss: 0.1422 - acc: 0.9446 - val_loss: 0.1917 - val_acc: 0.9237\n",
      "Epoch 17/20\n",
      "993/993 [==============================] - 149s 150ms/step - loss: 0.1161 - acc: 0.9567 - val_loss: 0.1682 - val_acc: 0.9197\n",
      "Epoch 18/20\n",
      "993/993 [==============================] - 151s 152ms/step - loss: 0.2022 - acc: 0.9194 - val_loss: 0.4493 - val_acc: 0.8434\n",
      "Epoch 19/20\n",
      "993/993 [==============================] - 150s 151ms/step - loss: 0.1363 - acc: 0.9476 - val_loss: 0.2081 - val_acc: 0.9277\n",
      "Epoch 20/20\n",
      "993/993 [==============================] - 155s 156ms/step - loss: 0.0728 - acc: 0.9678 - val_loss: 0.1906 - val_acc: 0.9317\n"
     ]
    }
   ],
   "source": [
    "checkpoint = ModelCheckpoint('model-{epoch:03d}.model',monitor='val_loss',verbose=0,save_best_only=True,mode='auto')\n",
    "\n",
    "history=model.fit(train_data,train_target,epochs=20,callbacks=[checkpoint],validation_split=0.2)"
   ]
  },
  {
   "cell_type": "code",
   "execution_count": 6,
   "metadata": {},
   "outputs": [
    {
     "data": {
      "image/png": "[encoded data removed]",
      "text/plain": [
       "<Figure size 432x288 with 1 Axes>"
      ]
     },
     "metadata": {
      "needs_background": "light"
     },
     "output_type": "display_data"
    }
   ],
   "source": [
    "from matplotlib import pyplot as plt\n",
    "\n",
    "plt.plot(history.history['loss'],'r',label='training loss')\n",
    "plt.plot(history.history['val_loss'],label='validation loss')\n",
    "plt.xlabel('# epochs')\n",
    "plt.ylabel('loss')\n",
    "plt.legend()\n",
    "plt.show()\n"
   ]
  },
  {
   "cell_type": "code",
   "execution_count": 7,
   "metadata": {},
   "outputs": [
    {
     "name": "stdout",
     "output_type": "stream",
     "text": [
      "138/138 [==============================] - 7s 51ms/step\n",
      "[0.1781721695906658, 0.9420289855072463]\n"
     ]
    }
   ],
   "source": [
    "print(model.evaluate(test_data,test_target))"
   ]
  },
  {
   "cell_type": "code",
   "execution_count": 12,
   "metadata": {},
   "outputs": [
    {
     "name": "stdout",
     "output_type": "stream",
     "text": [
      "138/138 [==============================] - 6s 42ms/step\n",
      "[0.10287276471870532, 0.9637681142143582]\n"
     ]
    }
   ],
   "source": []
  },
  {
   "cell_type": "code",
   "execution_count": null,
   "metadata": {},
   "outputs": [],
   "source": []
  }
 ],
 "metadata": {
  "kernelspec": {
   "display_name": "Python 3",
   "language": "python",
   "name": "python3"
  },
  "language_info": {
   "codemirror_mode": {
    "name": "ipython",
    "version": 3
   },
   "file_extension": ".py",
   "mimetype": "text/x-python",
   "name": "python",
   "nbconvert_exporter": "python",
   "pygments_lexer": "ipython3",
   "version": "3.7.4"
  }
 },
 "nbformat": 4,
 "nbformat_minor": 4
}
